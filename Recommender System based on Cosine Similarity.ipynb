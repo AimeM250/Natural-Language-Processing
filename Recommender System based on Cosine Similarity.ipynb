{
 "cells": [
  {
   "cell_type": "markdown",
   "id": "7f99c0f9",
   "metadata": {},
   "source": [
    "# -- Simple Recommender system based on Cosine Similarity using NLP (Pytorch)-------------------"
   ]
  },
  {
   "cell_type": "markdown",
   "id": "a5ed4563",
   "metadata": {},
   "source": [
    "A simple Natural Language Understanding system that comprises obtaining the key information from the user on the sort of legal qualities or the type of case that they have, and then the system recommends possible lawyers that they may engage.\n",
    "\n",
    "++ Note that this is a trial prototype with only one attribute (Cosine Similarity) taken into account."
   ]
  },
  {
   "cell_type": "markdown",
   "id": "79ca7b5d",
   "metadata": {},
   "source": [
    "# Importing Libraries to be used"
   ]
  },
  {
   "cell_type": "code",
   "execution_count": 19,
   "id": "06978252",
   "metadata": {},
   "outputs": [
    {
     "name": "stderr",
     "output_type": "stream",
     "text": [
      "[nltk_data] Downloading package punkt to C:\\Users\\Aime\n",
      "[nltk_data]     Munezero\\AppData\\Roaming\\nltk_data...\n",
      "[nltk_data]   Package punkt is already up-to-date!\n",
      "[nltk_data] Downloading package averaged_perceptron_tagger to\n",
      "[nltk_data]     C:\\Users\\Aime Munezero\\AppData\\Roaming\\nltk_data...\n",
      "[nltk_data]   Package averaged_perceptron_tagger is already up-to-\n",
      "[nltk_data]       date!\n"
     ]
    },
    {
     "data": {
      "application/vnd.jupyter.widget-view+json": {
       "model_id": "aedad581e22e4e5086de1f8db2ebce32",
       "version_major": 2,
       "version_minor": 0
      },
      "text/plain": [
       "Downloading https://raw.githubusercontent.com/stanfordnlp/stanza-resources/main/resources_1.3.0.json:   0%|   …"
      ]
     },
     "metadata": {},
     "output_type": "display_data"
    },
    {
     "name": "stderr",
     "output_type": "stream",
     "text": [
      "2022-04-01 01:09:51 INFO: Downloading default packages for language: en (English)...\n",
      "2022-04-01 01:09:53 INFO: File exists: C:\\Users\\Aime Munezero\\stanza_resources\\en\\default.zip.\n",
      "2022-04-01 01:09:58 INFO: Finished downloading models and saved to C:\\Users\\Aime Munezero\\stanza_resources.\n"
     ]
    }
   ],
   "source": [
    "import nltk\n",
    "nltk.download('punkt')\n",
    "from nltk.tokenize import word_tokenize\n",
    "nltk.download('averaged_perceptron_tagger')\n",
    "from sentence_transformers import SentenceTransformer, util\n",
    "import numpy as np\n",
    "from nltk.tokenize import sent_tokenize\n",
    "import requests\n",
    "import re\n",
    "from typing import List\n",
    "import spacy\n",
    "from spacy.tokens import Doc\n",
    "from tqdm import tqdm\n",
    "from bs4 import BeautifulSoup\n",
    "import torch\n",
    "from transformers import BertForQuestionAnswering\n",
    "from transformers import BertTokenizer\n",
    "\n",
    "import stanza\n",
    "stanza.download('en')\n",
    "\n",
    "import pandas as pd\n",
    "import numpy as np\n",
    "from nltk.corpus import stopwords\n",
    "from nltk.tokenize import word_tokenize\n",
    "import re\n",
    "import matplotlib.pyplot as plt"
   ]
  },
  {
   "cell_type": "markdown",
   "id": "aeea5368",
   "metadata": {},
   "source": [
    "# Loading Lawyer's data that I created"
   ]
  },
  {
   "cell_type": "code",
   "execution_count": 2,
   "id": "813fe708",
   "metadata": {},
   "outputs": [],
   "source": [
    "lawyer_data = pd.read_excel('lawyer_data.xlsx')"
   ]
  },
  {
   "cell_type": "code",
   "execution_count": 12,
   "id": "a23de024",
   "metadata": {},
   "outputs": [
    {
     "data": {
      "text/plain": [
       "(5, 3)"
      ]
     },
     "execution_count": 12,
     "metadata": {},
     "output_type": "execute_result"
    }
   ],
   "source": [
    "lawyer_data.shape"
   ]
  },
  {
   "cell_type": "markdown",
   "id": "402073a8",
   "metadata": {},
   "source": [
    "# Cleaning data"
   ]
  },
  {
   "cell_type": "code",
   "execution_count": 11,
   "id": "26703b14",
   "metadata": {},
   "outputs": [],
   "source": [
    "#Creating another preprocessed cleaned column "
   ]
  },
  {
   "cell_type": "code",
   "execution_count": 4,
   "id": "bb4e0b37",
   "metadata": {},
   "outputs": [],
   "source": [
    "lawyer_data['Descriptions'] = lawyer_data['Description'].map(lambda x: re.sub(r'\\W+', ' ', x.lower()))"
   ]
  },
  {
   "cell_type": "code",
   "execution_count": 5,
   "id": "89e04211",
   "metadata": {},
   "outputs": [
    {
     "data": {
      "text/html": [
       "<div>\n",
       "<style scoped>\n",
       "    .dataframe tbody tr th:only-of-type {\n",
       "        vertical-align: middle;\n",
       "    }\n",
       "\n",
       "    .dataframe tbody tr th {\n",
       "        vertical-align: top;\n",
       "    }\n",
       "\n",
       "    .dataframe thead th {\n",
       "        text-align: right;\n",
       "    }\n",
       "</style>\n",
       "<table border=\"1\" class=\"dataframe\">\n",
       "  <thead>\n",
       "    <tr style=\"text-align: right;\">\n",
       "      <th></th>\n",
       "      <th>Lawyers</th>\n",
       "      <th>Description</th>\n",
       "      <th>Descriptions</th>\n",
       "    </tr>\n",
       "  </thead>\n",
       "  <tbody>\n",
       "    <tr>\n",
       "      <th>0</th>\n",
       "      <td>ERIC KNUSTROM</td>\n",
       "      <td>Eric's love of beer began early at his grandmo...</td>\n",
       "      <td>eric s love of beer began early at his grandmo...</td>\n",
       "    </tr>\n",
       "    <tr>\n",
       "      <th>1</th>\n",
       "      <td>Sarah R.</td>\n",
       "      <td>Sarah Fink is an associate at KaiserDilton PLL...</td>\n",
       "      <td>sarah fink is an associate at kaiserdilton pll...</td>\n",
       "    </tr>\n",
       "    <tr>\n",
       "      <th>2</th>\n",
       "      <td>Antonia M. Apps</td>\n",
       "      <td>Ms. Apps is a former federal prosecutor and na...</td>\n",
       "      <td>ms apps is a former federal prosecutor and nat...</td>\n",
       "    </tr>\n",
       "    <tr>\n",
       "      <th>3</th>\n",
       "      <td>Bob Dole</td>\n",
       "      <td>He is the perfect example of hard work and goo...</td>\n",
       "      <td>he is the perfect example of hard work and goo...</td>\n",
       "    </tr>\n",
       "    <tr>\n",
       "      <th>4</th>\n",
       "      <td>Elena Kagan</td>\n",
       "      <td>has an outstanding career path. Her interests ...</td>\n",
       "      <td>has an outstanding career path her interests i...</td>\n",
       "    </tr>\n",
       "  </tbody>\n",
       "</table>\n",
       "</div>"
      ],
      "text/plain": [
       "           Lawyers                                        Description  \\\n",
       "0   ERIC KNUSTROM   Eric's love of beer began early at his grandmo...   \n",
       "1         Sarah R.  Sarah Fink is an associate at KaiserDilton PLL...   \n",
       "2  Antonia M. Apps  Ms. Apps is a former federal prosecutor and na...   \n",
       "3         Bob Dole  He is the perfect example of hard work and goo...   \n",
       "4      Elena Kagan  has an outstanding career path. Her interests ...   \n",
       "\n",
       "                                        Descriptions  \n",
       "0  eric s love of beer began early at his grandmo...  \n",
       "1  sarah fink is an associate at kaiserdilton pll...  \n",
       "2  ms apps is a former federal prosecutor and nat...  \n",
       "3  he is the perfect example of hard work and goo...  \n",
       "4  has an outstanding career path her interests i...  "
      ]
     },
     "execution_count": 5,
     "metadata": {},
     "output_type": "execute_result"
    }
   ],
   "source": [
    "lawyer_data"
   ]
  },
  {
   "cell_type": "markdown",
   "id": "8d70c619",
   "metadata": {},
   "source": [
    "# Computing the similarity between the data entered by the user and the lawyers data"
   ]
  },
  {
   "cell_type": "code",
   "execution_count": 7,
   "id": "738445ad",
   "metadata": {},
   "outputs": [],
   "source": [
    "def checkSimilarities(description,article):\n",
    "\n",
    "    paragraphRelevant=''\n",
    "    model = SentenceTransformer('paraphrase-MiniLM-L6-v2')\n",
    "    sentences = sent_tokenize(article)\n",
    "    \n",
    "    sentences.insert(0,description)\n",
    "    embeddings= model.encode(sentences, convert_to_tensor=True)\n",
    "    cosine_scores = util.pytorch_cos_sim(embeddings[0], embeddings[1:])\n",
    "    \n",
    "    return cosine_scores"
   ]
  },
  {
   "cell_type": "markdown",
   "id": "50792bc8",
   "metadata": {},
   "source": [
    "# User data"
   ]
  },
  {
   "cell_type": "code",
   "execution_count": 8,
   "id": "82d7eaf6",
   "metadata": {},
   "outputs": [],
   "source": [
    "description = 'A specialist in data privacy and cybersecurity.'.lower()\n",
    "d = re.sub('[!@#$.,;]', '', description)"
   ]
  },
  {
   "cell_type": "markdown",
   "id": "6c8439d7",
   "metadata": {},
   "source": [
    "# Calculating the cosine Similarity between user data entered and lawyer's bio, and then storing and sorting them in a dictionary"
   ]
  },
  {
   "cell_type": "code",
   "execution_count": 10,
   "id": "b8ae725a",
   "metadata": {},
   "outputs": [],
   "source": [
    "score = {}\n",
    "new= []\n",
    "list_scores = []\n",
    "for j in lawyer_data['Descriptions']:\n",
    "    list_scores.append(checkSimilarities(d,j))\n",
    "\n",
    "for i in list_scores:\n",
    "    x = re.findall(r'\\[\\[(.*?)\\]\\]',str(i))\n",
    "    new.append(x)\n",
    "new = [j for i in new for j in i]\n",
    "for i,j in zip(lawyer_data['Lawyers'],new):\n",
    "    score[i] = j\n",
    "\n",
    "    #Sorting dictionary by value\n",
    "\n",
    "score = {k: v for k, v in sorted(score.items(), key=lambda item: item[1])}\n",
    "data = score"
   ]
  },
  {
   "cell_type": "markdown",
   "id": "1b54f098",
   "metadata": {},
   "source": [
    "# Visualizing Lawyer's name with their approximative score"
   ]
  },
  {
   "cell_type": "code",
   "execution_count": 24,
   "id": "0545c76b",
   "metadata": {},
   "outputs": [
    {
     "data": {
      "image/png": "[encoded data removed]",
      "text/plain": [
       "<Figure size 720x360 with 1 Axes>"
      ]
     },
     "metadata": {
      "needs_background": "light"
     },
     "output_type": "display_data"
    }
   ],
   "source": [
    "courses = list(data.keys())\n",
    "values = list(data.values())\n",
    "  \n",
    "fig = plt.figure(figsize = (10, 5))\n",
    " \n",
    "# creating the bar plot\n",
    "plt.bar(courses, values, color ='maroon',\n",
    "        width = 0.4)\n",
    " \n",
    "plt.xlabel(\"Lawyers name\")\n",
    "plt.ylabel(\"Score\")\n",
    "plt.title(\"Lawyers with their repective scores\")\n",
    "\n",
    "plt.grid()\n",
    "plt.show()"
   ]
  },
  {
   "cell_type": "code",
   "execution_count": 14,
   "id": "41ca31a1",
   "metadata": {},
   "outputs": [],
   "source": [
    "name, score = max(data.items(), key = lambda k : k[1])"
   ]
  },
  {
   "cell_type": "code",
   "execution_count": 18,
   "id": "b8d1c35a",
   "metadata": {},
   "outputs": [
    {
     "name": "stdout",
     "output_type": "stream",
     "text": [
      "Based on the data entered, the Best Lawyer to recommend is Sarah R.\n"
     ]
    }
   ],
   "source": [
    "print(\"Based on the data entered, the Best Lawyer to recommend is {}\".format(name))"
   ]
  },
  {
   "cell_type": "markdown",
   "id": "414a9e04",
   "metadata": {},
   "source": []
  }
 ],
 "metadata": {
  "kernelspec": {
   "display_name": "Python 3 (ipykernel)",
   "language": "python",
   "name": "python3"
  },
  "language_info": {
   "codemirror_mode": {
    "name": "ipython",
    "version": 3
   },
   "file_extension": ".py",
   "mimetype": "text/x-python",
   "name": "python",
   "nbconvert_exporter": "python",
   "pygments_lexer": "ipython3",
   "version": "3.8.5"
  }
 },
 "nbformat": 4,
 "nbformat_minor": 5
}
